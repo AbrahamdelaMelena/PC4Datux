{
 "cells": [
  {
   "cell_type": "code",
   "execution_count": 10,
   "metadata": {},
   "outputs": [
    {
     "name": "stdin",
     "output_type": "stream",
     "text": [
      "Ingrese el valor a depositar por un año 1000\n"
     ]
    },
    {
     "name": "stdout",
     "output_type": "stream",
     "text": [
      "Tras el año #1 tiene ahorrados 1000 soles\n",
      "Tras el año #2 tiene ahorrados 1040.0 soles\n",
      "Tras el año #3 tiene ahorrados 1080.0 soles\n"
     ]
    }
   ],
   "source": [
    "d_i = int(input(\"Ingrese el valor a depositar por un año\"))\n",
    "cont = 1\n",
    "anual=d_i\n",
    "interes = 0\n",
    "while cont < 4:\n",
    "    anual = anual+interes\n",
    "    interes = d_i * 0.04\n",
    "    print(f\"Tras el año #{cont} tiene ahorrados {anual} soles\")\n",
    "    cont += 1"
   ]
  },
  {
   "cell_type": "code",
   "execution_count": null,
   "metadata": {},
   "outputs": [],
   "source": []
  }
 ],
 "metadata": {
  "kernelspec": {
   "display_name": "Python 3",
   "language": "python",
   "name": "python3"
  },
  "language_info": {
   "codemirror_mode": {
    "name": "ipython",
    "version": 3
   },
   "file_extension": ".py",
   "mimetype": "text/x-python",
   "name": "python",
   "nbconvert_exporter": "python",
   "pygments_lexer": "ipython3",
   "version": "3.7.6"
  }
 },
 "nbformat": 4,
 "nbformat_minor": 4
}
